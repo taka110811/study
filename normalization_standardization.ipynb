{
 "cells": [
  {
   "cell_type": "markdown",
   "metadata": {},
   "source": [
    "# （Min-Max）正規化"
   ]
  },
  {
   "cell_type": "markdown",
   "metadata": {},
   "source": [
    "#### 正規化（Normalization）:\n",
    "最小値を０、最大値を１にするスケーリング手法"
   ]
  },
  {
   "cell_type": "markdown",
   "metadata": {},
   "source": [
    "$$\n",
    "Xnormalized = \\frac{max(X)−min(X)}{X−min(X)}\n",
    "$$"
   ]
  },
  {
   "cell_type": "code",
   "execution_count": 1,
   "metadata": {},
   "outputs": [
    {
     "name": "stdout",
     "output_type": "stream",
     "text": [
      "[[0.   0.  ]\n",
      " [0.25 0.25]\n",
      " [0.5  0.5 ]\n",
      " [1.   1.  ]]\n"
     ]
    }
   ],
   "source": [
    "from sklearn.preprocessing import MinMaxScaler\n",
    "\n",
    "# データの例\n",
    "data = [[-1, 2], [-0.5, 6], [0, 10], [1, 18]]\n",
    "\n",
    "# MinMaxScalerのインスタンスを作成\n",
    "scaler = MinMaxScaler()\n",
    "\n",
    "# データを正規化\n",
    "normalized_data = scaler.fit_transform(data)\n",
    "\n",
    "print(normalized_data)"
   ]
  },
  {
   "cell_type": "markdown",
   "metadata": {},
   "source": [
    "# 標準化"
   ]
  },
  {
   "cell_type": "markdown",
   "metadata": {},
   "source": [
    "#### 標準化（Standardization）：\n",
    "平均を０、標準偏差を１とするスケーリング手法"
   ]
  },
  {
   "cell_type": "markdown",
   "metadata": {},
   "source": [
    "$$\n",
    "Xstandadization = \\frac{X−μ}{σ}\n",
    "$$"
   ]
  },
  {
   "cell_type": "code",
   "execution_count": 2,
   "metadata": {},
   "outputs": [
    {
     "name": "stdout",
     "output_type": "stream",
     "text": [
      "[[-1.18321596 -1.18321596]\n",
      " [-0.50709255 -0.50709255]\n",
      " [ 0.16903085  0.16903085]\n",
      " [ 1.52127766  1.52127766]]\n"
     ]
    }
   ],
   "source": [
    "from sklearn.preprocessing import StandardScaler\n",
    "\n",
    "# Data example\n",
    "data = [[-1, 2], [-0.5, 6], [0, 10], [1, 18]]\n",
    "\n",
    "# StandardScaler instance\n",
    "scaler = StandardScaler()\n",
    "\n",
    "# Standardize the data\n",
    "standardized_data = scaler.fit_transform(data)\n",
    "\n",
    "print(standardized_data)"
   ]
  },
  {
   "cell_type": "markdown",
   "metadata": {},
   "source": [
    "### 正規化と標準化の使い分け"
   ]
  },
  {
   "cell_type": "markdown",
   "metadata": {},
   "source": [
    "#### 標準化を用いる場合\n",
    "\n",
    "* 最大値及び最小値が決まっていない場合\\\n",
    "* 外れ値が存在する場合（外れ値が存在するデータに対して正規化を行うとスケーリングが外れ値に大きく影響されてしまいます\\\n",
    "* 機械学習で回帰モデルを構築する際は一般的に用いられる"
   ]
  },
  {
   "cell_type": "markdown",
   "metadata": {},
   "source": [
    "#### 正規化を用いる場合\n",
    "\n",
    "* 最大値が決まっている場合\n",
    "* 画像処理におけるRGBの強さを扱う場合（学習コストを下げる事ができるため）"
   ]
  },
  {
   "cell_type": "markdown",
   "metadata": {},
   "source": [
    "### 特徴量によって異なるデータスケールを統一するためよりも深い理由\n",
    "* 機械学習や回帰では特徴量の係数を算出するが、スケールが統一されていないと、スケールが大きい特徴量の重要度が必要以上に高くなってしまうから"
   ]
  },
  {
   "cell_type": "markdown",
   "metadata": {},
   "source": [
    "### Min-Max正規化と最大値で割るだけの正規化の違い\n",
    "Max-Min正規化がデータを0と1の間に収めるのに対し、最大値で除算する正規化では最小値が0になるとは限らない点です。\\\n",
    "Max-Min正規化はデータの相対的な位置関係（例えば、中央値や四分位数など）を保ちつつ、一定の範囲にデータを収めるのに適しています。\\\n",
    "一方、最大値で除算する正規化は、データのスケールを変更するだけで、元のデータの形状をより保持します。"
   ]
  }
 ],
 "metadata": {
  "kernelspec": {
   "display_name": "Python 3",
   "language": "python",
   "name": "python3"
  },
  "language_info": {
   "codemirror_mode": {
    "name": "ipython",
    "version": 3
   },
   "file_extension": ".py",
   "mimetype": "text/x-python",
   "name": "python",
   "nbconvert_exporter": "python",
   "pygments_lexer": "ipython3",
   "version": "3.9.18"
  }
 },
 "nbformat": 4,
 "nbformat_minor": 2
}
