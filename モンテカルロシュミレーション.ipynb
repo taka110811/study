{
 "cells": [
  {
   "cell_type": "markdown",
   "metadata": {},
   "source": [
    "# モンテカルロシュミレーション"
   ]
  },
  {
   "cell_type": "markdown",
   "metadata": {},
   "source": [
    "### 物理乱数"
   ]
  },
  {
   "cell_type": "markdown",
   "metadata": {},
   "source": [
    "熱雑音や原理核分裂といった物理現象を利用した乱数"
   ]
  },
  {
   "cell_type": "markdown",
   "metadata": {},
   "source": [
    "### 疑似乱数"
   ]
  },
  {
   "cell_type": "markdown",
   "metadata": {},
   "source": [
    "漸化式とかを用いて作られているらしい"
   ]
  },
  {
   "cell_type": "markdown",
   "metadata": {},
   "source": [
    "再現性や周期、乱数としての性質が不明瞭のため統計的検定が必要みたい"
   ]
  },
  {
   "cell_type": "markdown",
   "metadata": {},
   "source": [
    "一様性、独立性、高次元での稠密性が必要"
   ]
  },
  {
   "cell_type": "markdown",
   "metadata": {},
   "source": [
    "### 乱数の用途"
   ]
  },
  {
   "cell_type": "markdown",
   "metadata": {},
   "source": [
    "標本抽出、モンテカルロ計算、アルゴリズムのテスト、暗号、シュミレーション、ゲームなどの娯楽"
   ]
  },
  {
   "cell_type": "markdown",
   "metadata": {},
   "source": [
    "### 疑似乱数生成法\n",
    "* 線形合同法\n",
    "* 乗算合同法\n",
    "* メルセンヌツイスター法"
   ]
  },
  {
   "cell_type": "markdown",
   "metadata": {},
   "source": []
  }
 ],
 "metadata": {
  "language_info": {
   "name": "python"
  }
 },
 "nbformat": 4,
 "nbformat_minor": 2
}
